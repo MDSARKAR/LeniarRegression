{
 "cells": [
  {
   "cell_type": "code",
   "execution_count": 6,
   "id": "02efd5e0-450e-47b7-a06a-6f7b6d4f425c",
   "metadata": {},
   "outputs": [],
   "source": [
    "# basic or common Modules import\n",
    "import numpy as np\n",
    "import pandas as pd\n",
    "import matplotlib.pyplot as plt\n",
    "%matplotlib inline"
   ]
  },
  {
   "cell_type": "code",
   "execution_count": 7,
   "id": "c905fe6a-1469-4037-a865-8ef04ad3f54b",
   "metadata": {},
   "outputs": [],
   "source": [
    "# Models Related modules import\n",
    "from sklearn.linear_model import LogisticRegression\n",
    "from sklearn.preprocessing import StandardScaler\n",
    "\n",
    "from sklearn import metrics\n",
    "from sklearn import datasets\n",
    "from sklearn.model_selection import train_test_split"
   ]
  },
  {
   "cell_type": "code",
   "execution_count": 8,
   "id": "3ad8609b-22a6-45ea-8079-66cf012c6ac0",
   "metadata": {},
   "outputs": [],
   "source": [
    "# Loading datasets from API\n",
    "datasets = datasets.load_iris()"
   ]
  },
  {
   "cell_type": "code",
   "execution_count": 9,
   "id": "94ddb407-886a-4388-8fb5-542d9e2cb0a6",
   "metadata": {},
   "outputs": [],
   "source": [
    "x_datasets = datasets.data[:,[0, 2]]\n",
    "y_datasets = datasets.target\n",
    "datasets_column = datasets.target_names"
   ]
  },
  {
   "cell_type": "code",
   "execution_count": 11,
   "id": "f33d7df9-76e5-474c-9031-cb70ec671564",
   "metadata": {},
   "outputs": [
    {
     "name": "stdout",
     "output_type": "stream",
     "text": [
      "Independent Datasets : [5.1 1.4]\n",
      "Dependent Datasets : [0 0 0 0 0 0 0 0 0 0 0 0 0 0 0 0 0 0 0 0 0 0 0 0 0 0 0 0 0 0 0 0 0 0 0 0 0\n",
      " 0 0 0 0 0 0 0 0 0 0 0 0 0 1 1 1 1 1 1 1 1 1 1 1 1 1 1 1 1 1 1 1 1 1 1 1 1\n",
      " 1 1 1 1 1 1 1 1 1 1 1 1 1 1 1 1 1 1 1 1 1 1 1 1 1 1 2 2 2 2 2 2 2 2 2 2 2\n",
      " 2 2 2 2 2 2 2 2 2 2 2 2 2 2 2 2 2 2 2 2 2 2 2 2 2 2 2 2 2 2 2 2 2 2 2 2 2\n",
      " 2 2]\n",
      "Class Names of the Datasets:  ['setosa' 'versicolor' 'virginica']\n"
     ]
    }
   ],
   "source": [
    "print(\"Independent Datasets :\", x_datasets[0])\n",
    "print(\"Dependent Datasets :\", y_datasets)\n",
    "print(\"Class Names of the Datasets: \", datasets_column)"
   ]
  },
  {
   "cell_type": "code",
   "execution_count": 12,
   "id": "2d939976-4ebb-4c77-93ef-45be2d464e21",
   "metadata": {},
   "outputs": [],
   "source": [
    "x_train, x_test, y_train, y_test = train_test_split(x_datasets,\n",
    "                                                    y_datasets,\n",
    "                                                    test_size = 0.20,\n",
    "                                                    random_state = 1,\n",
    "                                                    stratify = y_datasets)"
   ]
  },
  {
   "cell_type": "code",
   "execution_count": 13,
   "id": "154c4b38-f049-46ce-95a5-cb5e42bfbb72",
   "metadata": {},
   "outputs": [
    {
     "data": {
      "text/plain": [
       "StandardScaler()"
      ]
     },
     "execution_count": 13,
     "metadata": {},
     "output_type": "execute_result"
    }
   ],
   "source": [
    "scalling = StandardScaler()\n",
    "scalling.fit(x_train)"
   ]
  },
  {
   "cell_type": "code",
   "execution_count": 14,
   "id": "670da132-13e1-4c28-bf2c-2e811d884450",
   "metadata": {},
   "outputs": [
    {
     "data": {
      "text/plain": [
       "StandardScaler()"
      ]
     },
     "execution_count": 14,
     "metadata": {},
     "output_type": "execute_result"
    }
   ],
   "source": [
    "StandardScaler()"
   ]
  },
  {
   "cell_type": "code",
   "execution_count": 15,
   "id": "5493f470-cdd0-4c4a-a0ba-ec73f0cbdd75",
   "metadata": {},
   "outputs": [],
   "source": [
    "Standard_Scalling_for_x_train_datasets = scalling.transform(x_train)\n",
    "standard_Scalling_for_x_test_datasets = scalling.transform(x_test)"
   ]
  },
  {
   "cell_type": "code",
   "execution_count": 18,
   "id": "d273aa30-151b-46b8-88b7-c41d00ce3c67",
   "metadata": {},
   "outputs": [],
   "source": [
    "#model calling\n",
    "logistic_Regression_model = LogisticRegression(C=100.0,\n",
    "                                               random_state = 1,\n",
    "                                               solver = 'lbfgs',\n",
    "                                               multi_class = 'ovr'\n",
    "                                              )"
   ]
  },
  {
   "cell_type": "code",
   "execution_count": 22,
   "id": "436fae24-d209-44fc-860e-7ee1e9bef527",
   "metadata": {},
   "outputs": [
    {
     "data": {
      "text/plain": [
       "LogisticRegression(C=100.0, multi_class='ovr', random_state=1)"
      ]
     },
     "execution_count": 22,
     "metadata": {},
     "output_type": "execute_result"
    }
   ],
   "source": [
    "logistic_Regression_model.fit(Standard_Scalling_for_x_train_datasets, y_train)\n",
    "#LogisticRegression(C=100.0, multi_class='ovr', random_state=1)"
   ]
  },
  {
   "cell_type": "code",
   "execution_count": 23,
   "id": "4395df2e-a094-4e79-9688-2185bd0b0c55",
   "metadata": {},
   "outputs": [],
   "source": [
    "model_predict_results = logistic_Regression_model.predict(standard_Scalling_for_x_test_datasets)"
   ]
  },
  {
   "cell_type": "code",
   "execution_count": 24,
   "id": "942750d4-22db-4b3d-b085-0ddb479be43c",
   "metadata": {},
   "outputs": [
    {
     "name": "stdout",
     "output_type": "stream",
     "text": [
      "Prediction Results on the IRIS datasets is : 0.967\n"
     ]
    }
   ],
   "source": [
    "print(\"Prediction Results on the IRIS datasets is : %.3f\"%metrics.accuracy_score(y_test, model_predict_results))"
   ]
  },
  {
   "cell_type": "code",
   "execution_count": null,
   "id": "d3f5d3af-73f7-415c-b611-798a50fe7473",
   "metadata": {},
   "outputs": [],
   "source": []
  }
 ],
 "metadata": {
  "kernelspec": {
   "display_name": "Python 3 (ipykernel)",
   "language": "python",
   "name": "python3"
  },
  "language_info": {
   "codemirror_mode": {
    "name": "ipython",
    "version": 3
   },
   "file_extension": ".py",
   "mimetype": "text/x-python",
   "name": "python",
   "nbconvert_exporter": "python",
   "pygments_lexer": "ipython3",
   "version": "3.7.13"
  }
 },
 "nbformat": 4,
 "nbformat_minor": 5
}
